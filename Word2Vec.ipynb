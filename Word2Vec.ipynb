{
 "cells": [
  {
   "cell_type": "code",
   "execution_count": 4,
   "metadata": {},
   "outputs": [],
   "source": [
    "import os\n",
    "import json\n",
    "import requests\n",
    "import pandas as pd\n",
    "import numpy as np\n",
    "import tensorflow as tf\n",
    "import matplotlib.pyplot as plt\n",
    "import seaborn as sns"
   ]
  },
  {
   "cell_type": "code",
   "execution_count": 8,
   "metadata": {
    "scrolled": false
   },
   "outputs": [],
   "source": [
    "data_file =  os.getcwd()+\"/GeneralText1.txt\"\n",
    "\n",
    "file = open(\"/home/sachin/#Personal/Code/Gensim/GeneralText.txt\",\"r\") \n",
    "file = [i for i in file.readline().split(\".\")]\n",
    "list_of_words = [[word for word in line.split()] for line in file]"
   ]
  },
  {
   "cell_type": "code",
   "execution_count": 9,
   "metadata": {},
   "outputs": [
    {
     "data": {
      "text/plain": [
       "[['History',\n",
       "  '(from',\n",
       "  'Greek',\n",
       "  'ἱστορία,',\n",
       "  'historia,',\n",
       "  'meaning',\n",
       "  \"'inquiry;\",\n",
       "  'knowledge',\n",
       "  'acquired',\n",
       "  'by',\n",
       "  \"investigation')[2]\",\n",
       "  'is',\n",
       "  'the',\n",
       "  'past',\n",
       "  'as',\n",
       "  'it',\n",
       "  'is',\n",
       "  'described',\n",
       "  'in',\n",
       "  'written',\n",
       "  'documents,',\n",
       "  'and',\n",
       "  'the',\n",
       "  'study',\n",
       "  'thereof'],\n",
       " ['[3][4]',\n",
       "  'Events',\n",
       "  'occurring',\n",
       "  'before',\n",
       "  'written',\n",
       "  'records',\n",
       "  'are',\n",
       "  'considered',\n",
       "  'prehistory'],\n",
       " ['\"History\"',\n",
       "  'is',\n",
       "  'an',\n",
       "  'umbrella',\n",
       "  'term',\n",
       "  'that',\n",
       "  'relates',\n",
       "  'to',\n",
       "  'past',\n",
       "  'events',\n",
       "  'as',\n",
       "  'well',\n",
       "  'as',\n",
       "  'the',\n",
       "  'memory,',\n",
       "  'discovery,',\n",
       "  'collection,',\n",
       "  'organization,',\n",
       "  'presentation,',\n",
       "  'and',\n",
       "  'interpretation',\n",
       "  'of',\n",
       "  'information',\n",
       "  'about',\n",
       "  'these',\n",
       "  'events'],\n",
       " ['Scholars',\n",
       "  'who',\n",
       "  'write',\n",
       "  'about',\n",
       "  'history',\n",
       "  'are',\n",
       "  'called',\n",
       "  'historians'],\n",
       " []]"
      ]
     },
     "execution_count": 9,
     "metadata": {},
     "output_type": "execute_result"
    }
   ],
   "source": [
    "list_of_words"
   ]
  }
 ],
 "metadata": {
  "kernelspec": {
   "display_name": "Python 3",
   "language": "python",
   "name": "python3"
  },
  "language_info": {
   "codemirror_mode": {
    "name": "ipython",
    "version": 3
   },
   "file_extension": ".py",
   "mimetype": "text/x-python",
   "name": "python",
   "nbconvert_exporter": "python",
   "pygments_lexer": "ipython3",
   "version": "3.7.4"
  }
 },
 "nbformat": 4,
 "nbformat_minor": 2
}
